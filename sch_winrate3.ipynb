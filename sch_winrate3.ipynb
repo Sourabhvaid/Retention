{
 "cells": [
  {
   "cell_type": "code",
   "execution_count": 1,
   "id": "56a5d1b1-8a1f-496a-bf54-53dce4ac522c",
   "metadata": {},
   "outputs": [],
   "source": [
    "import pandas as pd\n",
    "from  scipy.stats import pearsonr\n",
    "import seaborn as sns\n",
    "from matplotlib import pyplot as plt"
   ]
  },
  {
   "cell_type": "markdown",
   "id": "9a4884c8-4d4f-4dd3-8cbb-531da239822b",
   "metadata": {},
   "source": [
    "### Play to Play scheduled no ref no fl paid pub Winrate"
   ]
  },
  {
   "cell_type": "markdown",
   "id": "87998057-0488-4300-809d-6ddec85f6cc2",
   "metadata": {},
   "source": [
    "#### all days "
   ]
  },
  {
   "cell_type": "code",
   "execution_count": 24,
   "id": "b102a1eb-17a9-4afd-b04f-17615a06eeb7",
   "metadata": {},
   "outputs": [
    {
     "name": "stdout",
     "output_type": "stream",
     "text": [
      "type 1- win: 81.21 rtn: 69.08 users: 9.73\n",
      "type 2- win: 58.19 rtn: 81.26 users: 5.89\n",
      "type 2- win: 19.56 rtn: 36.10 users: 18.30\n"
     ]
    }
   ],
   "source": [
    "df = pd.read_csv('Downloads/sch_win_3.csv')\n",
    "df =df[(df['date']<'2022-02-26')&(df['diff']==1)]\n",
    "# df = df[df['date']>'2022-02-11']\n",
    "df = df.reset_index()\n",
    "print('type 1- win:','%.2f' %df[df['type']==1].avgwinrate.mean(),end =\" \")\n",
    "print('rtn:','%.2f' %df[df['type']==1].rtn.mean(),end =\" \")\n",
    "print('users:','%.2f' %df[df['type']==1].totalplayed.mean())\n",
    "print('type 2- win:','%.2f' %df[df['type']==2].avgwinrate.mean(),end =\" \")\n",
    "print('rtn:','%.2f' %df[df['type']==2].rtn.mean(),end =\" \")\n",
    "print('users:','%.2f' %df[df['type']==2].totalplayed.mean())\n",
    "print('type 2- win:','%.2f' %df[df['type']==3].avgwinrate.mean(),end =\" \")\n",
    "print('rtn:','%.2f' %df[df['type']==3].rtn.mean(),end =\" \")\n",
    "print('users:','%.2f' %df[df['type']==3].totalplayed.mean())\n"
   ]
  },
  {
   "cell_type": "markdown",
   "id": "3f6a782e-c795-4cb4-a89a-7c866bbc7e27",
   "metadata": {},
   "source": [
    "#### after 11th feb"
   ]
  },
  {
   "cell_type": "code",
   "execution_count": 25,
   "id": "b7e074bc-9c5c-433d-9e6e-992c92b5843e",
   "metadata": {},
   "outputs": [
    {
     "name": "stdout",
     "output_type": "stream",
     "text": [
      "type 1- win: 79.03 rtn: 71.50 users: 8.50\n",
      "type 2- win: 59.00 rtn: 83.50 users: 5.07\n",
      "type 2- win: 19.27 rtn: 33.30 users: 16.71\n"
     ]
    }
   ],
   "source": [
    "df = pd.read_csv('Downloads/sch_win_3.csv')\n",
    "df =df[(df['date']<'2022-02-26')&(df['diff']==1)]\n",
    "df = df[df['date']>'2022-02-11']\n",
    "df = df.reset_index()\n",
    "print('type 1- win:','%.2f' %df[df['type']==1].avgwinrate.mean(),end =\" \")\n",
    "print('rtn:','%.2f' %df[df['type']==1].rtn.mean(),end =\" \")\n",
    "print('users:','%.2f' %df[df['type']==1].totalplayed.mean())\n",
    "print('type 2- win:','%.2f' %df[df['type']==2].avgwinrate.mean(),end =\" \")\n",
    "print('rtn:','%.2f' %df[df['type']==2].rtn.mean(),end =\" \")\n",
    "print('users:','%.2f' %df[df['type']==2].totalplayed.mean())\n",
    "print('type 2- win:','%.2f' %df[df['type']==3].avgwinrate.mean(),end =\" \")\n",
    "print('rtn:','%.2f' %df[df['type']==3].rtn.mean(),end =\" \")\n",
    "print('users:','%.2f' %df[df['type']==3].totalplayed.mean())\n"
   ]
  },
  {
   "cell_type": "markdown",
   "id": "eb90168c-1a22-4779-8ed5-74329146c3eb",
   "metadata": {},
   "source": [
    "#### before 11th feb"
   ]
  },
  {
   "cell_type": "code",
   "execution_count": 26,
   "id": "7ed52868-c697-423f-8ae0-0bcd2abaf469",
   "metadata": {},
   "outputs": [
    {
     "name": "stdout",
     "output_type": "stream",
     "text": [
      "type 1- win: 82.53 rtn: 67.61 users: 10.48\n",
      "type 2- win: 57.69 rtn: 79.90 users: 6.39\n",
      "type 2- win: 19.73 rtn: 37.80 users: 19.26\n"
     ]
    }
   ],
   "source": [
    "df = pd.read_csv('Downloads/sch_win_3.csv')\n",
    "df =df[(df['date']<'2022-02-12')&(df['diff']==1)]\n",
    "# df = df[df['date']>'2022-02-01']\n",
    "df = df.reset_index()\n",
    "print('type 1- win:','%.2f' %df[df['type']==1].avgwinrate.mean(),end =\" \")\n",
    "print('rtn:','%.2f' %df[df['type']==1].rtn.mean(),end =\" \")\n",
    "print('users:','%.2f' %df[df['type']==1].totalplayed.mean())\n",
    "print('type 2- win:','%.2f' %df[df['type']==2].avgwinrate.mean(),end =\" \")\n",
    "print('rtn:','%.2f' %df[df['type']==2].rtn.mean(),end =\" \")\n",
    "print('users:','%.2f' %df[df['type']==2].totalplayed.mean())\n",
    "print('type 2- win:','%.2f' %df[df['type']==3].avgwinrate.mean(),end =\" \")\n",
    "print('rtn:','%.2f' %df[df['type']==3].rtn.mean(),end =\" \")\n",
    "print('users:','%.2f' %df[df['type']==3].totalplayed.mean())"
   ]
  },
  {
   "cell_type": "markdown",
   "id": "c3af9b07-2dfb-454d-8101-0a8033a77f46",
   "metadata": {},
   "source": [
    "#### Pearsonr Corr"
   ]
  },
  {
   "cell_type": "code",
   "execution_count": 20,
   "id": "2709a780-4798-438d-9f15-b006778bc11c",
   "metadata": {},
   "outputs": [
    {
     "name": "stdout",
     "output_type": "stream",
     "text": [
      "type 1:  (-0.1980610130080695, 0.23995747761523295)\n",
      "type 2:  (0.340340092358536, 0.03928998552425343)\n",
      "type 3:  (0.030199041893838437, 0.859171367675762)\n"
     ]
    }
   ],
   "source": [
    "df = pd.read_csv('Downloads/sch_win_3.csv')\n",
    "df1 =df[(df['type']==1)&(df['diff']==1) & (df['date']<'2022-02-26')]\n",
    "df2 =df[(df['type']==2)&(df['diff']==1) & (df['date']<'2022-02-26')]\n",
    "df3 =df[(df['type']==3)&(df['diff']==1) & (df['date']<'2022-02-26')]\n",
    "print('type 1: ',pearsonr(df1['avgwinrate'],df1.rtn))\n",
    "print('type 2: ',pearsonr(df2['avgwinrate'],df2.rtn))\n",
    "print('type 3: ',pearsonr(df3['avgwinrate'],df3.rtn))"
   ]
  }
 ],
 "metadata": {
  "kernelspec": {
   "display_name": "Python 3 (ipykernel)",
   "language": "python",
   "name": "python3"
  },
  "language_info": {
   "codemirror_mode": {
    "name": "ipython",
    "version": 3
   },
   "file_extension": ".py",
   "mimetype": "text/x-python",
   "name": "python",
   "nbconvert_exporter": "python",
   "pygments_lexer": "ipython3",
   "version": "3.9.7"
  }
 },
 "nbformat": 4,
 "nbformat_minor": 5
}
